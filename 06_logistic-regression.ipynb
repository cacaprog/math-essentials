{
 "cells": [
  {
   "attachments": {},
   "cell_type": "markdown",
   "metadata": {},
   "source": [
    "## Math essential for data scientists\n",
    "## Chapter 6 - Logistic Regression"
   ]
  },
  {
   "attachments": {},
   "cell_type": "markdown",
   "metadata": {},
   "source": [
    "## The logistic function in Python for one independent variable\n",
    "Example 6.1"
   ]
  },
  {
   "cell_type": "code",
   "execution_count": 1,
   "metadata": {},
   "outputs": [],
   "source": [
    "import math\n",
    "\n",
    "def predict_probability(x, b0, b1):\n",
    "    p = 1.0 / (1.0 + math.exp(-(b0 + b1 * x)))\n",
    "    return p"
   ]
  },
  {
   "cell_type": "code",
   "execution_count": 2,
   "metadata": {},
   "outputs": [
    {
     "data": {
      "text/plain": [
       "0.5688105810391961"
      ]
     },
     "execution_count": 2,
     "metadata": {},
     "output_type": "execute_result"
    }
   ],
   "source": [
    "predict_probability(5, -2.823, 0.62)"
   ]
  },
  {
   "cell_type": "code",
   "execution_count": 3,
   "metadata": {},
   "outputs": [
    {
     "data": {
      "text/plain": [
       "0.9669779444898571"
      ]
     },
     "execution_count": 3,
     "metadata": {},
     "output_type": "execute_result"
    }
   ],
   "source": [
    "predict_probability(10, -2.823, 0.62)"
   ]
  },
  {
   "attachments": {},
   "cell_type": "markdown",
   "metadata": {},
   "source": [
    "Example 6-2. Using SymPy to plot a logistic function"
   ]
  },
  {
   "cell_type": "code",
   "execution_count": 4,
   "metadata": {},
   "outputs": [
    {
     "data": {
      "image/png": "[encoded data removed]",
      "text/plain": [
       "<Figure size 432x288 with 1 Axes>"
      ]
     },
     "metadata": {
      "needs_background": "light"
     },
     "output_type": "display_data"
    },
    {
     "data": {
      "text/plain": [
       "<sympy.plotting.plot.Plot at 0x7fcdfed5bfd0>"
      ]
     },
     "execution_count": 4,
     "metadata": {},
     "output_type": "execute_result"
    }
   ],
   "source": [
    "from sympy import *\n",
    "b0, b1, x = symbols('b0 b1 x')\n",
    "\n",
    "p = 1.0 / (1.0 + exp(-(b0 + b1 * x)))\n",
    "\n",
    "p = p.subs(b0, -2.823)\n",
    "p = p.subs(b1, 0.620) # aqui só funcionou depois que eu inclui o 0 depois do 62\n",
    "x = range(-1, 10, 5)\n",
    "plot(p)"
   ]
  },
  {
   "attachments": {},
   "cell_type": "markdown",
   "metadata": {},
   "source": [
    "### Fitting the logistic curve"
   ]
  },
  {
   "attachments": {},
   "cell_type": "markdown",
   "metadata": {},
   "source": [
    "Example 6-3. Using a plain logistic regression in SciPy"
   ]
  },
  {
   "cell_type": "code",
   "execution_count": 5,
   "metadata": {},
   "outputs": [],
   "source": [
    "import pandas as pd\n",
    "from sklearn.linear_model import LogisticRegression"
   ]
  },
  {
   "cell_type": "code",
   "execution_count": 6,
   "metadata": {},
   "outputs": [],
   "source": [
    "# Load the data\n",
    "data = pd.read_csv('https://bit.ly/33ebs2R', delimiter=\",\")\n",
    "\n",
    "# Extract input variables (all rows, all columns but last column)\n",
    "X = data.values[:,:-1]\n",
    "\n",
    "# Extract output column (all rows, last column)\n",
    "Y = data.values[:, -1]"
   ]
  },
  {
   "cell_type": "code",
   "execution_count": 7,
   "metadata": {},
   "outputs": [
    {
     "name": "stdout",
     "output_type": "stream",
     "text": [
      "[0.69267212]\n",
      "[-3.17576395]\n"
     ]
    }
   ],
   "source": [
    "# Perform logistic regression\n",
    "# Turn off penalty\n",
    "model = LogisticRegression(penalty='none')\n",
    "model.fit(X, Y)\n",
    "\n",
    "# print beta1\n",
    "print(model.coef_.flatten())\n",
    "# print beta0\n",
    "print(model.intercept_.flatten())"
   ]
  },
  {
   "attachments": {},
   "cell_type": "markdown",
   "metadata": {},
   "source": [
    "Making Predictions with .predict() and .predict_proba() methods"
   ]
  },
  {
   "cell_type": "code",
   "execution_count": 8,
   "metadata": {},
   "outputs": [
    {
     "data": {
      "text/plain": [
       "array([0., 0., 0., 0., 0., 0., 0., 0., 1., 1., 1., 1., 1., 1., 1., 1., 1.,\n",
       "       1., 1., 1., 1.])"
      ]
     },
     "execution_count": 8,
     "metadata": {},
     "output_type": "execute_result"
    }
   ],
   "source": [
    "model.predict(X)"
   ]
  },
  {
   "cell_type": "code",
   "execution_count": 9,
   "metadata": {},
   "outputs": [
    {
     "data": {
      "text/plain": [
       "array([[0.92294796, 0.07705204],\n",
       "       [0.89442465, 0.10557535],\n",
       "       [0.84827722, 0.15172278],\n",
       "       [0.81955727, 0.18044273],\n",
       "       [0.80908623, 0.19091377],\n",
       "       [0.73662118, 0.26337882],\n",
       "       [0.56624354, 0.43375646],\n",
       "       [0.53195802, 0.46804198],\n",
       "       [0.49736807, 0.50263193],\n",
       "       [0.44563342, 0.55436658],\n",
       "       [0.39505057, 0.60494943],\n",
       "       [0.33110314, 0.66889686],\n",
       "       [0.25931421, 0.74068579],\n",
       "       [0.22143254, 0.77856746],\n",
       "       [0.19847197, 0.80152803],\n",
       "       [0.15803247, 0.84196753],\n",
       "       [0.11021526, 0.88978474],\n",
       "       [0.09734504, 0.90265496],\n",
       "       [0.06644149, 0.93355851],\n",
       "       [0.0511858 , 0.9488142 ],\n",
       "       [0.03928558, 0.96071442]])"
      ]
     },
     "execution_count": 9,
     "metadata": {},
     "output_type": "execute_result"
    }
   ],
   "source": [
    "model.predict_proba(X)"
   ]
  },
  {
   "attachments": {},
   "cell_type": "markdown",
   "metadata": {},
   "source": [
    "## Multivariable Logistic Regression"
   ]
  },
  {
   "cell_type": "code",
   "execution_count": 10,
   "metadata": {},
   "outputs": [
    {
     "data": {
      "text/html": [
       "<div>\n",
       "<style scoped>\n",
       "    .dataframe tbody tr th:only-of-type {\n",
       "        vertical-align: middle;\n",
       "    }\n",
       "\n",
       "    .dataframe tbody tr th {\n",
       "        vertical-align: top;\n",
       "    }\n",
       "\n",
       "    .dataframe thead th {\n",
       "        text-align: right;\n",
       "    }\n",
       "</style>\n",
       "<table border=\"1\" class=\"dataframe\">\n",
       "  <thead>\n",
       "    <tr style=\"text-align: right;\">\n",
       "      <th></th>\n",
       "      <th>SEX</th>\n",
       "      <th>AGE</th>\n",
       "      <th>PROMOTIONS</th>\n",
       "      <th>YEARS_EMPLOYED</th>\n",
       "      <th>DID_QUIT</th>\n",
       "    </tr>\n",
       "  </thead>\n",
       "  <tbody>\n",
       "    <tr>\n",
       "      <th>0</th>\n",
       "      <td>0</td>\n",
       "      <td>25</td>\n",
       "      <td>2</td>\n",
       "      <td>3</td>\n",
       "      <td>0</td>\n",
       "    </tr>\n",
       "    <tr>\n",
       "      <th>1</th>\n",
       "      <td>0</td>\n",
       "      <td>30</td>\n",
       "      <td>2</td>\n",
       "      <td>3</td>\n",
       "      <td>0</td>\n",
       "    </tr>\n",
       "    <tr>\n",
       "      <th>2</th>\n",
       "      <td>0</td>\n",
       "      <td>26</td>\n",
       "      <td>2</td>\n",
       "      <td>3</td>\n",
       "      <td>0</td>\n",
       "    </tr>\n",
       "    <tr>\n",
       "      <th>3</th>\n",
       "      <td>0</td>\n",
       "      <td>25</td>\n",
       "      <td>1</td>\n",
       "      <td>2</td>\n",
       "      <td>0</td>\n",
       "    </tr>\n",
       "    <tr>\n",
       "      <th>4</th>\n",
       "      <td>0</td>\n",
       "      <td>28</td>\n",
       "      <td>1</td>\n",
       "      <td>2</td>\n",
       "      <td>0</td>\n",
       "    </tr>\n",
       "  </tbody>\n",
       "</table>\n",
       "</div>"
      ],
      "text/plain": [
       "   SEX  AGE  PROMOTIONS  YEARS_EMPLOYED  DID_QUIT\n",
       "0    0   25           2               3         0\n",
       "1    0   30           2               3         0\n",
       "2    0   26           2               3         0\n",
       "3    0   25           1               2         0\n",
       "4    0   28           1               2         0"
      ]
     },
     "execution_count": 10,
     "metadata": {},
     "output_type": "execute_result"
    }
   ],
   "source": [
    "# Load data\n",
    "employee_data = pd.read_csv('https://tinyurl.com/y6r7qjrp')\n",
    "employee_data.head()"
   ]
  },
  {
   "cell_type": "code",
   "execution_count": 11,
   "metadata": {},
   "outputs": [],
   "source": [
    "# grab independent variable columns\n",
    "inputs = employee_data.iloc[:, :-1]\n",
    "\n",
    "# grab dependent variable \"did_quit\" column\n",
    "output = employee_data.iloc[:, -1]"
   ]
  },
  {
   "cell_type": "code",
   "execution_count": 12,
   "metadata": {},
   "outputs": [
    {
     "name": "stdout",
     "output_type": "stream",
     "text": [
      "Coefficients: [ 0.03213405  0.03682453 -2.50410028  0.9742266 ]\n",
      "Intercept: [-2.73485301]\n"
     ]
    }
   ],
   "source": [
    "# build logistic regression\n",
    "fit = LogisticRegression(penalty='none').fit(inputs, output)\n",
    "\n",
    "# print coefficients\n",
    "print('Coefficients: {0}'.format(fit.coef_.flatten()))\n",
    "print('Intercept: {0}'.format(fit.intercept_.flatten()))"
   ]
  },
  {
   "cell_type": "code",
   "execution_count": 13,
   "metadata": {},
   "outputs": [],
   "source": [
    "# Interact and test with new employee data\n",
    "def predict_employee_will_stay(sex, age, promotions, years_employed):\n",
    "    prediction = fit.predict([[sex, age, promotions, years_employed]])\n",
    "    probabilities = fit.predict_proba([[sex, age, promotions, years_employed]])\n",
    "    if prediction == [[1]]:\n",
    "        return \"Will leave: {0}\".format(probabilities)\n",
    "    else:\n",
    "        return \"Will stay:{0}\".format(probabilities)"
   ]
  },
  {
   "cell_type": "code",
   "execution_count": 14,
   "metadata": {},
   "outputs": [
    {
     "data": {
      "text/plain": [
       "'Will leave: [[0.28570264 0.71429736]]'"
      ]
     },
     "execution_count": 14,
     "metadata": {},
     "output_type": "execute_result"
    }
   ],
   "source": [
    "predict_employee_will_stay(1, 34, 1, 5)"
   ]
  },
  {
   "cell_type": "code",
   "execution_count": 15,
   "metadata": {},
   "outputs": [
    {
     "data": {
      "text/plain": [
       "'Will stay:[[0.99373243 0.00626757]]'"
      ]
     },
     "execution_count": 15,
     "metadata": {},
     "output_type": "execute_result"
    }
   ],
   "source": [
    "predict_employee_will_stay(1, 34, 3, 4)"
   ]
  },
  {
   "attachments": {},
   "cell_type": "markdown",
   "metadata": {},
   "source": [
    "## R squared\n",
    "$Rˆ2$ indicates how well a given independent variable explains a dependent variable"
   ]
  },
  {
   "attachments": {},
   "cell_type": "markdown",
   "metadata": {},
   "source": [
    "Example 6-14. Calculating the R2 for a logistic regression"
   ]
  },
  {
   "cell_type": "code",
   "execution_count": 17,
   "metadata": {},
   "outputs": [],
   "source": [
    "from math import log, exp\n",
    "\n",
    "patient_data = list(pd.read_csv('https://bit.ly/33ebs2R', delimiter=\",\")\\\n",
    ".itertuples())"
   ]
  },
  {
   "cell_type": "code",
   "execution_count": 19,
   "metadata": {},
   "outputs": [
    {
     "data": {
      "text/plain": [
       "[Pandas(Index=0, x=1.0, y=0),\n",
       " Pandas(Index=1, x=1.5, y=0),\n",
       " Pandas(Index=2, x=2.1, y=0),\n",
       " Pandas(Index=3, x=2.4, y=0),\n",
       " Pandas(Index=4, x=2.5, y=1),\n",
       " Pandas(Index=5, x=3.1, y=0),\n",
       " Pandas(Index=6, x=4.2, y=0),\n",
       " Pandas(Index=7, x=4.4, y=1),\n",
       " Pandas(Index=8, x=4.6, y=1),\n",
       " Pandas(Index=9, x=4.9, y=0),\n",
       " Pandas(Index=10, x=5.2, y=1),\n",
       " Pandas(Index=11, x=5.6, y=0),\n",
       " Pandas(Index=12, x=6.1, y=1),\n",
       " Pandas(Index=13, x=6.4, y=1),\n",
       " Pandas(Index=14, x=6.6, y=1),\n",
       " Pandas(Index=15, x=7.0, y=0),\n",
       " Pandas(Index=16, x=7.6, y=1),\n",
       " Pandas(Index=17, x=7.8, y=1),\n",
       " Pandas(Index=18, x=8.4, y=1),\n",
       " Pandas(Index=19, x=8.8, y=1),\n",
       " Pandas(Index=20, x=9.2, y=1)]"
      ]
     },
     "execution_count": 19,
     "metadata": {},
     "output_type": "execute_result"
    }
   ],
   "source": [
    "patient_data"
   ]
  },
  {
   "cell_type": "code",
   "execution_count": 20,
   "metadata": {},
   "outputs": [],
   "source": [
    "# Declare fitted logistic regression\n",
    "b0 = -3.17576395\n",
    "b1 = 0.69267212\n",
    "\n",
    "def logistic_function(x):\n",
    "    p = 1.0 / (1.0 + exp(-(b0 + b1 * x)))\n",
    "    return p\n",
    "\n",
    "# calculate the log likelihood of the fit\n",
    "log_likehood_fit = sum(log(logistic_function(p.x)) * p.y +\n",
    "                       log(1.0 - logistic_function(p.x)) * (1.0 - p.y)\n",
    "                       for p in patient_data)"
   ]
  },
  {
   "cell_type": "code",
   "execution_count": 21,
   "metadata": {},
   "outputs": [
    {
     "name": "stdout",
     "output_type": "stream",
     "text": [
      "0.306456105756576\n"
     ]
    }
   ],
   "source": [
    "# calculate the log likelihood without fit\n",
    "likehood = sum(p.y for p in patient_data) / len(patient_data)\n",
    "\n",
    "log_likehood = sum(log(likehood) * p.y + log(1.0 - likehood) * (1.0 - p.y)\\\n",
    "                   for p in patient_data)\n",
    "\n",
    "# calculate R-Square\n",
    "r2 = (log_likehood - log_likehood_fit) / log_likehood\n",
    "print(r2)"
   ]
  },
  {
   "attachments": {},
   "cell_type": "markdown",
   "metadata": {},
   "source": [
    "a poor fit will be closer to an R2 of 0.0 and a greater fit will be closer to 1.0. Therefore, we can conclude that hours of exposure is mediocre for predicting symptoms, as the R2 is 0.30645"
   ]
  },
  {
   "attachments": {},
   "cell_type": "markdown",
   "metadata": {},
   "source": [
    "## P-value\n",
    "We need to investigate how likely we would have seen this data by chance rather than because of an actual relationship. This means we need a p-value\n",
    "\n",
    "p‐value = chi 2 ((log likelihood fit) − (log likelihood))"
   ]
  },
  {
   "cell_type": "code",
   "execution_count": 22,
   "metadata": {},
   "outputs": [
    {
     "name": "stdout",
     "output_type": "stream",
     "text": [
      "0.0016604875618753787\n"
     ]
    }
   ],
   "source": [
    "# calculate p-value\n",
    "from scipy.stats import chi2\n",
    "\n",
    "chi2_input = 2*(log_likehood_fit - log_likehood)\n",
    "p_value = chi2.pdf(chi2_input, 1) # 1 degree of freedom (n - 1)\n",
    "print(p_value)"
   ]
  },
  {
   "attachments": {},
   "cell_type": "markdown",
   "metadata": {},
   "source": [
    "with threshold for significance of 0.05, p_value < 0.05, this data is statistcally significant and was not by random choice"
   ]
  }
 ],
 "metadata": {
  "kernelspec": {
   "display_name": "Python 3",
   "language": "python",
   "name": "python3"
  },
  "language_info": {
   "codemirror_mode": {
    "name": "ipython",
    "version": 3
   },
   "file_extension": ".py",
   "mimetype": "text/x-python",
   "name": "python",
   "nbconvert_exporter": "python",
   "pygments_lexer": "ipython3",
   "version": "3.9.7"
  },
  "orig_nbformat": 4,
  "vscode": {
   "interpreter": {
    "hash": "000c74b085ed1b68eb2547ece368d530e75095bb94cf8c48469769a097fb0021"
   }
  }
 },
 "nbformat": 4,
 "nbformat_minor": 2
}
